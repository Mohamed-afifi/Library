{
  "nbformat": 4,
  "nbformat_minor": 0,
  "metadata": {
    "colab": {
      "provenance": [],
      "include_colab_link": true
    },
    "kernelspec": {
      "name": "python3",
      "display_name": "Python 3"
    },
    "language_info": {
      "name": "python"
    }
  },
  "cells": [
    {
      "cell_type": "markdown",
      "metadata": {
        "id": "view-in-github",
        "colab_type": "text"
      },
      "source": [
        "<a href=\"https://colab.research.google.com/github/Mohamed-afifi/Library/blob/main/SAM.ipynb\" target=\"_parent\"><img src=\"https://colab.research.google.com/assets/colab-badge.svg\" alt=\"Open In Colab\"/></a>"
      ]
    },
    {
      "cell_type": "code",
      "source": [
        "pip install 'git+https://github.com/facebookresearch/segment-anything.git'"
      ],
      "metadata": {
        "colab": {
          "base_uri": "https://localhost:8080/"
        },
        "id": "4pQ6WzMBE_t3",
        "outputId": "ea334850-b903-4517-a3a3-c9e402315bf5"
      },
      "execution_count": 1,
      "outputs": [
        {
          "output_type": "stream",
          "name": "stdout",
          "text": [
            "Collecting git+https://github.com/facebookresearch/segment-anything.git\n",
            "  Cloning https://github.com/facebookresearch/segment-anything.git to /tmp/pip-req-build-bqbjzj_4\n",
            "  Running command git clone --filter=blob:none --quiet https://github.com/facebookresearch/segment-anything.git /tmp/pip-req-build-bqbjzj_4\n",
            "  Resolved https://github.com/facebookresearch/segment-anything.git to commit 6fdee8f2727f4506cfbbe553e23b895e27956588\n",
            "  Preparing metadata (setup.py) ... \u001b[?25l\u001b[?25hdone\n",
            "Building wheels for collected packages: segment-anything\n",
            "  Building wheel for segment-anything (setup.py) ... \u001b[?25l\u001b[?25hdone\n",
            "  Created wheel for segment-anything: filename=segment_anything-1.0-py3-none-any.whl size=36587 sha256=fdf2e1aaeac75687e23fed3d6ba267dff191dd047326ab61d0255afa7c5468d8\n",
            "  Stored in directory: /tmp/pip-ephem-wheel-cache-liz5t1rm/wheels/10/cf/59/9ccb2f0a1bcc81d4fbd0e501680b5d088d690c6cfbc02dc99d\n",
            "Successfully built segment-anything\n",
            "Installing collected packages: segment-anything\n",
            "Successfully installed segment-anything-1.0\n"
          ]
        }
      ]
    },
    {
      "cell_type": "code",
      "source": [
        "pip install -q roboflow supervision"
      ],
      "metadata": {
        "id": "vZD95SIsFCWF",
        "colab": {
          "base_uri": "https://localhost:8080/"
        },
        "outputId": "1caa21db-81e2-48d3-ec71-f99e290ca0e0"
      },
      "execution_count": 2,
      "outputs": [
        {
          "output_type": "stream",
          "name": "stdout",
          "text": [
            "\u001b[?25l     \u001b[90m━━━━━━━━━━━━━━━━━━━━━━━━━━━━━━━━━━━━━━━━\u001b[0m \u001b[32m0.0/70.0 kB\u001b[0m \u001b[31m?\u001b[0m eta \u001b[36m-:--:--\u001b[0m\r\u001b[2K     \u001b[91m━━━━━━━━━━━━━━━━━━━━━━━\u001b[0m\u001b[90m╺\u001b[0m\u001b[90m━━━━━━━━━━━━━━━━\u001b[0m \u001b[32m41.0/70.0 kB\u001b[0m \u001b[31m1.2 MB/s\u001b[0m eta \u001b[36m0:00:01\u001b[0m\r\u001b[2K     \u001b[90m━━━━━━━━━━━━━━━━━━━━━━━━━━━━━━━━━━━━━━━━\u001b[0m \u001b[32m70.0/70.0 kB\u001b[0m \u001b[31m1.3 MB/s\u001b[0m eta \u001b[36m0:00:00\u001b[0m\n",
            "\u001b[2K     \u001b[90m━━━━━━━━━━━━━━━━━━━━━━━━━━━━━━━━━━━━━━━━\u001b[0m \u001b[32m86.7/86.7 kB\u001b[0m \u001b[31m2.6 MB/s\u001b[0m eta \u001b[36m0:00:00\u001b[0m\n",
            "\u001b[2K     \u001b[90m━━━━━━━━━━━━━━━━━━━━━━━━━━━━━━━━━━━━━━━━\u001b[0m \u001b[32m158.3/158.3 kB\u001b[0m \u001b[31m8.2 MB/s\u001b[0m eta \u001b[36m0:00:00\u001b[0m\n",
            "\u001b[2K     \u001b[90m━━━━━━━━━━━━━━━━━━━━━━━━━━━━━━━━━━━━━━━━\u001b[0m \u001b[32m178.7/178.7 kB\u001b[0m \u001b[31m14.0 MB/s\u001b[0m eta \u001b[36m0:00:00\u001b[0m\n",
            "\u001b[2K     \u001b[90m━━━━━━━━━━━━━━━━━━━━━━━━━━━━━━━━━━━━━━━━\u001b[0m \u001b[32m58.8/58.8 kB\u001b[0m \u001b[31m6.0 MB/s\u001b[0m eta \u001b[36m0:00:00\u001b[0m\n",
            "\u001b[2K     \u001b[90m━━━━━━━━━━━━━━━━━━━━━━━━━━━━━━━━━━━━━━━━\u001b[0m \u001b[32m49.1/49.1 MB\u001b[0m \u001b[31m17.3 MB/s\u001b[0m eta \u001b[36m0:00:00\u001b[0m\n",
            "\u001b[2K     \u001b[90m━━━━━━━━━━━━━━━━━━━━━━━━━━━━━━━━━━━━━━━━\u001b[0m \u001b[32m54.5/54.5 kB\u001b[0m \u001b[31m4.7 MB/s\u001b[0m eta \u001b[36m0:00:00\u001b[0m\n",
            "\u001b[?25h\u001b[31mERROR: pip's dependency resolver does not currently take into account all the packages that are installed. This behaviour is the source of the following dependency conflicts.\n",
            "lida 0.0.10 requires fastapi, which is not installed.\n",
            "lida 0.0.10 requires kaleido, which is not installed.\n",
            "lida 0.0.10 requires python-multipart, which is not installed.\n",
            "lida 0.0.10 requires uvicorn, which is not installed.\u001b[0m\u001b[31m\n",
            "\u001b[0m"
          ]
        }
      ]
    },
    {
      "cell_type": "code",
      "source": [
        "!wget -q 'https://dl.fbaipublicfiles.com/segment_anything/sam_vit_h_4b8939.pth'\n"
      ],
      "metadata": {
        "id": "fMydmRuEFCLI"
      },
      "execution_count": 3,
      "outputs": []
    },
    {
      "cell_type": "code",
      "source": [
        "!pip install ArabicOcr\n",
        "!pip install openpyxl"
      ],
      "metadata": {
        "colab": {
          "base_uri": "https://localhost:8080/"
        },
        "id": "RzAuLhAlm1Mr",
        "outputId": "8c55d7e0-4710-4f1f-b5e6-37464b4d5787"
      },
      "execution_count": 4,
      "outputs": [
        {
          "output_type": "stream",
          "name": "stdout",
          "text": [
            "Collecting ArabicOcr\n",
            "  Downloading ArabicOcr-1.1.6-py3-none-any.whl (3.4 kB)\n",
            "Collecting easyocr (from ArabicOcr)\n",
            "  Downloading easyocr-1.7.1-py3-none-any.whl (2.9 MB)\n",
            "\u001b[2K     \u001b[90m━━━━━━━━━━━━━━━━━━━━━━━━━━━━━━━━━━━━━━━━\u001b[0m \u001b[32m2.9/2.9 MB\u001b[0m \u001b[31m11.2 MB/s\u001b[0m eta \u001b[36m0:00:00\u001b[0m\n",
            "\u001b[?25hRequirement already satisfied: torch in /usr/local/lib/python3.10/dist-packages (from easyocr->ArabicOcr) (2.1.0+cu121)\n",
            "Requirement already satisfied: torchvision>=0.5 in /usr/local/lib/python3.10/dist-packages (from easyocr->ArabicOcr) (0.16.0+cu121)\n",
            "Requirement already satisfied: opencv-python-headless in /usr/local/lib/python3.10/dist-packages (from easyocr->ArabicOcr) (4.8.0.74)\n",
            "Requirement already satisfied: scipy in /usr/local/lib/python3.10/dist-packages (from easyocr->ArabicOcr) (1.11.4)\n",
            "Requirement already satisfied: numpy in /usr/local/lib/python3.10/dist-packages (from easyocr->ArabicOcr) (1.23.5)\n",
            "Requirement already satisfied: Pillow in /usr/local/lib/python3.10/dist-packages (from easyocr->ArabicOcr) (9.4.0)\n",
            "Requirement already satisfied: scikit-image in /usr/local/lib/python3.10/dist-packages (from easyocr->ArabicOcr) (0.19.3)\n",
            "Collecting python-bidi (from easyocr->ArabicOcr)\n",
            "  Downloading python_bidi-0.4.2-py2.py3-none-any.whl (30 kB)\n",
            "Requirement already satisfied: PyYAML in /usr/local/lib/python3.10/dist-packages (from easyocr->ArabicOcr) (6.0.1)\n",
            "Requirement already satisfied: Shapely in /usr/local/lib/python3.10/dist-packages (from easyocr->ArabicOcr) (2.0.2)\n",
            "Collecting pyclipper (from easyocr->ArabicOcr)\n",
            "  Downloading pyclipper-1.3.0.post5-cp310-cp310-manylinux_2_12_x86_64.manylinux2010_x86_64.whl (908 kB)\n",
            "\u001b[2K     \u001b[90m━━━━━━━━━━━━━━━━━━━━━━━━━━━━━━━━━━━━━━━━\u001b[0m \u001b[32m908.3/908.3 kB\u001b[0m \u001b[31m56.6 MB/s\u001b[0m eta \u001b[36m0:00:00\u001b[0m\n",
            "\u001b[?25hCollecting ninja (from easyocr->ArabicOcr)\n",
            "  Downloading ninja-1.11.1.1-py2.py3-none-manylinux1_x86_64.manylinux_2_5_x86_64.whl (307 kB)\n",
            "\u001b[2K     \u001b[90m━━━━━━━━━━━━━━━━━━━━━━━━━━━━━━━━━━━━━━━━\u001b[0m \u001b[32m307.2/307.2 kB\u001b[0m \u001b[31m28.0 MB/s\u001b[0m eta \u001b[36m0:00:00\u001b[0m\n",
            "\u001b[?25hRequirement already satisfied: requests in /usr/local/lib/python3.10/dist-packages (from torchvision>=0.5->easyocr->ArabicOcr) (2.31.0)\n",
            "Requirement already satisfied: filelock in /usr/local/lib/python3.10/dist-packages (from torch->easyocr->ArabicOcr) (3.13.1)\n",
            "Requirement already satisfied: typing-extensions in /usr/local/lib/python3.10/dist-packages (from torch->easyocr->ArabicOcr) (4.5.0)\n",
            "Requirement already satisfied: sympy in /usr/local/lib/python3.10/dist-packages (from torch->easyocr->ArabicOcr) (1.12)\n",
            "Requirement already satisfied: networkx in /usr/local/lib/python3.10/dist-packages (from torch->easyocr->ArabicOcr) (3.2.1)\n",
            "Requirement already satisfied: jinja2 in /usr/local/lib/python3.10/dist-packages (from torch->easyocr->ArabicOcr) (3.1.3)\n",
            "Requirement already satisfied: fsspec in /usr/local/lib/python3.10/dist-packages (from torch->easyocr->ArabicOcr) (2023.6.0)\n",
            "Requirement already satisfied: triton==2.1.0 in /usr/local/lib/python3.10/dist-packages (from torch->easyocr->ArabicOcr) (2.1.0)\n",
            "Requirement already satisfied: six in /usr/local/lib/python3.10/dist-packages (from python-bidi->easyocr->ArabicOcr) (1.16.0)\n",
            "Requirement already satisfied: imageio>=2.4.1 in /usr/local/lib/python3.10/dist-packages (from scikit-image->easyocr->ArabicOcr) (2.31.6)\n",
            "Requirement already satisfied: tifffile>=2019.7.26 in /usr/local/lib/python3.10/dist-packages (from scikit-image->easyocr->ArabicOcr) (2023.12.9)\n",
            "Requirement already satisfied: PyWavelets>=1.1.1 in /usr/local/lib/python3.10/dist-packages (from scikit-image->easyocr->ArabicOcr) (1.5.0)\n",
            "Requirement already satisfied: packaging>=20.0 in /usr/local/lib/python3.10/dist-packages (from scikit-image->easyocr->ArabicOcr) (23.2)\n",
            "Requirement already satisfied: MarkupSafe>=2.0 in /usr/local/lib/python3.10/dist-packages (from jinja2->torch->easyocr->ArabicOcr) (2.1.4)\n",
            "Requirement already satisfied: charset-normalizer<4,>=2 in /usr/local/lib/python3.10/dist-packages (from requests->torchvision>=0.5->easyocr->ArabicOcr) (3.3.2)\n",
            "Requirement already satisfied: idna<4,>=2.5 in /usr/local/lib/python3.10/dist-packages (from requests->torchvision>=0.5->easyocr->ArabicOcr) (2.10)\n",
            "Requirement already satisfied: urllib3<3,>=1.21.1 in /usr/local/lib/python3.10/dist-packages (from requests->torchvision>=0.5->easyocr->ArabicOcr) (2.0.7)\n",
            "Requirement already satisfied: certifi>=2017.4.17 in /usr/local/lib/python3.10/dist-packages (from requests->torchvision>=0.5->easyocr->ArabicOcr) (2023.7.22)\n",
            "Requirement already satisfied: mpmath>=0.19 in /usr/local/lib/python3.10/dist-packages (from sympy->torch->easyocr->ArabicOcr) (1.3.0)\n",
            "Installing collected packages: pyclipper, ninja, python-bidi, easyocr, ArabicOcr\n",
            "Successfully installed ArabicOcr-1.1.6 easyocr-1.7.1 ninja-1.11.1.1 pyclipper-1.3.0.post5 python-bidi-0.4.2\n",
            "Requirement already satisfied: openpyxl in /usr/local/lib/python3.10/dist-packages (3.1.2)\n",
            "Requirement already satisfied: et-xmlfile in /usr/local/lib/python3.10/dist-packages (from openpyxl) (1.1.0)\n"
          ]
        }
      ]
    },
    {
      "cell_type": "code",
      "source": [
        "from google.colab import drive\n",
        "drive.mount('/content/drive')"
      ],
      "metadata": {
        "colab": {
          "base_uri": "https://localhost:8080/"
        },
        "id": "AkPY6sSKm-J9",
        "outputId": "b77a2b62-442e-4e09-b0e6-f1f170ea47c3"
      },
      "execution_count": 5,
      "outputs": [
        {
          "output_type": "stream",
          "name": "stdout",
          "text": [
            "Mounted at /content/drive\n"
          ]
        }
      ]
    },
    {
      "cell_type": "code",
      "source": [
        "import cv2\n",
        "import openpyxl\n",
        "from segment_anything import SamAutomaticMaskGenerator\n",
        "import torch\n",
        "from segment_anything import sam_model_registry\n",
        "import supervision as sv\n",
        "from ArabicOcr import arabicocr\n",
        "from openpyxl import Workbook\n",
        "import os\n",
        "\n",
        "def extract_AkherSaa(input_string):\n",
        "    # Extract the first 8 characters of the string\n",
        "    title = input_string[:9].strip()\n",
        "    issue = input_string[10:13].strip()\n",
        "    date = input_string[14:18].strip()\n",
        "    page = input_string[19:26].strip()\n",
        "\n",
        "    return title, issue, date, page\n",
        "\n",
        "\n",
        "def extract_AlArousa(input_string):\n",
        "    # Extract the first 8 characters of the string\n",
        "    title = input_string[:10].strip()\n",
        "    issue = input_string[11:15].strip()\n",
        "    date = input_string[19:22].strip()\n",
        "    page = input_string[23:30].strip()\n",
        "    return title, issue, date, page\n",
        "\n",
        "def extract_AlMusawwar(input_string):\n",
        "    # Extract the first 8 characters of the string\n",
        "    title = input_string[:10].strip()\n",
        "    issue = input_string[11:14].strip()\n",
        "    date = input_string[15:19].strip()\n",
        "    page = input_string[20:27].strip()\n",
        "\n",
        "    return title, issue, date, page\n",
        "\n",
        "def extract_AlKawakeb(input_string):\n",
        "    title = input_string[:10].strip()\n",
        "    issue = input_string[11:13].strip()\n",
        "    date = input_string[14:18].strip()\n",
        "    page = input_string[19:26].strip()\n",
        "    return title, issue, date, page\n",
        "\n",
        "\n",
        "folder_path ='AlAroussa-144-1927'\n",
        "output_folder = 'images'\n",
        "\n",
        "file_list = [file for file in os.listdir(folder_path) if file.lower().endswith('.jpg')]\n",
        "print(len(file_list))\n",
        "for file in file_list:\n",
        "    print(file,\"\\n\")\n",
        "\n",
        "# Create the output folder if it doesn't exist\n",
        "os.makedirs(output_folder, exist_ok=True)\n",
        "\n",
        "DEVICE = torch.device('cuda:0' if torch.cuda.is_available() else 'cpu')\n",
        "MODEL_TYPE = \"vit_h\"\n",
        "sam = sam_model_registry[MODEL_TYPE](checkpoint=\"/content/sam_vit_h_4b8939.pth\")\n",
        "sam.to(device=DEVICE)\n",
        "mask_generator = SamAutomaticMaskGenerator(sam)\n",
        "\n",
        "# Create the workbook and get the active sheet\n",
        "\n",
        "output_excel_path = output_folder+\"/output.xlsx\"\n",
        "\n",
        "# Check if the workbook exists\n",
        "if os.path.exists(output_excel_path):\n",
        "    # Load the existing workbook\n",
        "    workbook = openpyxl.load_workbook(output_excel_path)\n",
        "else:\n",
        "    # Create a new workbook if it doesn't exist\n",
        "    workbook = openpyxl.Workbook()\n",
        "\n",
        "\n",
        "sheet = workbook.active\n",
        "\n",
        "# Save the headers for the information\n",
        "sheet.cell(row=1, column=1).value = \"Title\"\n",
        "sheet.cell(row=1, column=2).value = \"Issue\"\n",
        "sheet.cell(row=1, column=3).value = \"Date\"\n",
        "sheet.cell(row=1, column=4).value = \"Page\"\n",
        "sheet.cell(row=1, column=5).value = \"Arabic Text\"\n",
        "sheet.cell(row=1, column=6).value = \"Image title\"\n",
        "\n",
        "\n",
        "# Save the workbook once after writing the headers\n",
        "#output_excel_path = os.path.join(output_folder, \"output.xlsx\")\n",
        "workbook.save(output_excel_path)\n",
        "\n",
        "# Iterate through the files and process each one\n",
        "for file_name in file_list:\n",
        "    IMAGE_PATH = os.path.join(folder_path, file_name)\n",
        "    print(\"File Name: \", file_name)\n",
        "    title, issue, date, page = None, None, None, None\n",
        "\n",
        "    if \"Akher-Saa\" in file_name:\n",
        "        title, issue, date, page = extract_AkherSaa(file_name)\n",
        "        print(title, issue, date, page)\n",
        "    elif \"Al Aroussa\" in file_name:\n",
        "        title, issue, date, page = extract_AlArousa(file_name)\n",
        "        print(title, issue, date, page)\n",
        "    elif \"AlMusawwar\" in file_name:\n",
        "        title, issue, date, page = extract_AlMusawwar(file_name)\n",
        "        print(title, issue, date, page)\n",
        "    elif \"AlKawakeb\" in file_name:\n",
        "        title, issue, date, page = extract_AlKawakeb(file_name)\n",
        "        print(title, issue, date, page)\n",
        "\n",
        "    image_bgr = cv2.imread(IMAGE_PATH)\n",
        "    image_rgb = cv2.cvtColor(image_bgr, cv2.COLOR_BGR2RGB)\n",
        "    result = mask_generator.generate(image_rgb)\n",
        "\n",
        "    mask_annotator = sv.MaskAnnotator(color_lookup=sv.ColorLookup.INDEX)\n",
        "    detections = sv.Detections.from_sam(result)\n",
        "    annotated_image = mask_annotator.annotate(image_bgr, detections)\n",
        "\n",
        "    annotated_image_path = os.path.join(output_folder, f\"annotated_image_{file_name}\")\n",
        "    cv2.imwrite(annotated_image_path, annotated_image)\n",
        "    print(f\"Annotated image saved at: {annotated_image_path}\")\n",
        "\n",
        "    # Get the cropped image from the result[0]['crop_box'] using image_bgr[x:x2, y:y2]\n",
        "    sorted_list = sorted(result, key=lambda k: k['area'], reverse=True)\n",
        "\n",
        "    i = 0\n",
        "    for _, item in enumerate(sorted_list, start=0):\n",
        "        crop_box = item['bbox']\n",
        "        x, y, w, h = map(round, crop_box)\n",
        "\n",
        "\n",
        "        # Extract the coordinates to slice the image\n",
        "        try:\n",
        "        # Extract the coordinates to slice the image\n",
        "            cropped_image = image_bgr[y:y + h, x:x + w]\n",
        "\n",
        "            crop_output_path = os.path.join(output_folder, f\"cropped_region_{file_name}_row{i}.jpg\")\n",
        "            cv2.imwrite(crop_output_path, cropped_image)\n",
        "\n",
        "        # Use the saved image file for OCR\n",
        "            image_path = crop_output_path\n",
        "            out_image = os.path.join(output_folder, f\"out{i}.jpg\")\n",
        "            results = arabicocr.arabic_ocr(image_path, out_image)\n",
        "\n",
        "            words = [result[1] for result in results]\n",
        "\n",
        "        # Add a new row for each image to the sheet\n",
        "            row_index = sheet.max_row + 1\n",
        "\n",
        "        # Save information to the sheet (excluding image part)\n",
        "            sheet.cell(row=row_index, column=1).value = title\n",
        "            sheet.cell(row=row_index, column=2).value = issue\n",
        "            sheet.cell(row=row_index, column=3).value = date\n",
        "            sheet.cell(row=row_index, column=4).value = page\n",
        "            # Add words to the sheet\n",
        "            sheet.cell(row=row_index, column=5).value = ' '.join(words)\n",
        "            sheet.cell(row=row_index, column=6).value = f\"cropped_region_{file_name}_row{i}.jpg\"\n",
        "\n",
        "            i += 1\n",
        "\n",
        "            if i == 5:\n",
        "                break\n",
        "        except TypeError as e:\n",
        "            print(f\"Error: {e}. Skipping this iteration.\")\n",
        "            continue\n",
        "# Save the workbook after processing all images\n",
        "    workbook.save(output_excel_path)"
      ],
      "metadata": {
        "id": "ZqZ-j5aio00H",
        "outputId": "e8ebf9d0-0eb8-4666-e41d-79720b71dc73",
        "colab": {
          "base_uri": "https://localhost:8080/"
        }
      },
      "execution_count": null,
      "outputs": [
        {
          "output_type": "stream",
          "name": "stdout",
          "text": [
            "File Name:  Al Aroussa-1927-iss127_Page_02.jpg\n",
            "Al Aroussa 1927 127 Page_02\n"
          ]
        }
      ]
    }
  ]
}